{
 "cells": [
  {
   "cell_type": "code",
   "execution_count": 1,
   "metadata": {},
   "outputs": [
    {
     "name": "stderr",
     "output_type": "stream",
     "text": [
      "/home/ubuntu/anaconda3/lib/python3.6/site-packages/h5py/__init__.py:34: FutureWarning: Conversion of the second argument of issubdtype from `float` to `np.floating` is deprecated. In future, it will be treated as `np.float64 == np.dtype(float).type`.\n",
      "  from ._conv import register_converters as _register_converters\n",
      "Using TensorFlow backend.\n"
     ]
    },
    {
     "name": "stdout",
     "output_type": "stream",
     "text": [
      "WARNING:tensorflow:From /home/ubuntu/anaconda3/lib/python3.6/site-packages/tensorflow/contrib/learn/python/learn/datasets/base.py:198: retry (from tensorflow.contrib.learn.python.learn.datasets.base) is deprecated and will be removed in a future version.\n",
      "Instructions for updating:\n",
      "Use the retry module or similar alternatives.\n"
     ]
    }
   ],
   "source": [
    "from keras.preprocessing import sequence\n",
    "from keras.models import Sequential, Model, load_model, model_from_yaml\n",
    "from keras.layers import Dense, Dropout, Activation\n",
    "from keras.layers import Embedding\n",
    "from keras.layers import Conv1D, GlobalMaxPooling1D\n",
    "from keras.datasets import imdb\n",
    "import tensorflow as tf\n",
    "from keras import backend as K\n",
    "\n",
    "tf.logging.set_verbosity(tf.logging.ERROR)\n",
    "import numpy as np\n",
    "import pandas as pd\n",
    "\n",
    "from skater.core.local_interpretation.dnni.deep_interpreter import DeepInterpreter\n",
    "from skater.core.visualizer.text_relevance_visualizer import build_visual_explainer, show_in_notebook\n",
    "from skater.util.dataops import convert_dataframe_to_dict"
   ]
  },
  {
   "cell_type": "code",
   "execution_count": 2,
   "metadata": {
    "collapsed": true
   },
   "outputs": [],
   "source": [
    "# Create a TensorFlow session and register it with Keras. It will use this session to initialize all the variables\n",
    "sess = tf.Session()\n",
    "K.set_session(sess)"
   ]
  },
  {
   "cell_type": "code",
   "execution_count": 3,
   "metadata": {
    "collapsed": true
   },
   "outputs": [],
   "source": [
    "# set parameters\n",
    "max_features = 20000\n",
    "maxlen = 80\n",
    "batch_size = 32\n",
    "embedding_dims = 128\n",
    "filters = 250\n",
    "kernel_size = 3\n",
    "hidden_dims = 250\n",
    "epochs = 3"
   ]
  },
  {
   "cell_type": "markdown",
   "metadata": {},
   "source": [
    "### Load the Dataset\n",
    "#### IMDB dataset: \n",
    "##### 1. http://ai.stanford.edu/~amaas//data/sentiment/\n",
    "##### 2. http://ai.stanford.edu/~ang/papers/acl11-WordVectorsSentimentAnalysis.pdf ( Section 4.1 )"
   ]
  },
  {
   "cell_type": "code",
   "execution_count": 4,
   "metadata": {},
   "outputs": [
    {
     "name": "stdout",
     "output_type": "stream",
     "text": [
      "Loading data...\n",
      "25000 train sequences\n",
      "25000 test sequences\n"
     ]
    }
   ],
   "source": [
    "# The Dataset contains 50,000 reviews(Train:25,000 and Test:25,000)\n",
    "# More info about the dataset: https://keras.io/datasets/#imdb-movie-reviews-sentiment-classification\n",
    "\n",
    "print('Loading data...')\n",
    "(x_train, y_train), (x_test, y_test) = imdb.load_data(num_words=max_features)\n",
    "print(len(x_train), 'train sequences')\n",
    "print(len(x_test), 'test sequences')"
   ]
  },
  {
   "cell_type": "code",
   "execution_count": 5,
   "metadata": {},
   "outputs": [
    {
     "name": "stdout",
     "output_type": "stream",
     "text": [
      "<START> shown in australia as <UNK> this incredibly bad movie is so bad that you become <UNK> and have to watch it to the end just to see if it could get any worse and it does the storyline is so predictable it seems written by a high school dramatics class the sets are pathetic but marginally better than the <UNK> and the acting is wooden br br the infant <UNK> seems to have been stolen from the props cupboard of <UNK> <UNK> there didn't seem to be a single original idea in the whole movie br br i found this movie to be so bad that i laughed most of the way through br br malcolm mcdowell should hang his head in shame he obviously needed the money\n",
      "\n",
      "Length: 129\n"
     ]
    }
   ],
   "source": [
    "# https://stackoverflow.com/questions/42821330/restore-original-text-from-keras-s-imdb-dataset\n",
    "# Reading raw text\n",
    "INDEX_FROM = 3\n",
    "# Get the {Word: Index} mapping\n",
    "word_to_id = imdb.get_word_index()\n",
    "\n",
    "def adjust_word_id_offset(word_id_dict):\n",
    "    word_id_dict = {k:(v+INDEX_FROM) for k,v in word_id_dict.items()}\n",
    "    word_id_dict[\"<PAD>\"] = 0\n",
    "    word_id_dict[\"<START>\"] = 1\n",
    "    word_id_dict[\"<UNK>\"] = 2\n",
    "    return word_id_dict\n",
    "\n",
    "w_to_id = adjust_word_id_offset(word_to_id)\n",
    "\n",
    "def get_raw_txt(word_id_dict, input_data):\n",
    "    id_to_word = {value:key for key,value in word_id_dict.items()}\n",
    "    return ' '.join([(id_to_word[_id] if _id in id_to_word else 'None') for _id in input_data])\n",
    "\n",
    "r_t = get_raw_txt(w_to_id, x_train[20])\n",
    "print(r_t + \"\\n\")\n",
    "print(\"Length: {}\".format(len(r_t.split(' '))))"
   ]
  },
  {
   "cell_type": "code",
   "execution_count": 6,
   "metadata": {},
   "outputs": [
    {
     "name": "stdout",
     "output_type": "stream",
     "text": [
      "Pad sequences (samples x time)\n",
      "x_train shape: (25000, 80)\n",
      "x_test shape: (25000, 80)\n"
     ]
    }
   ],
   "source": [
    "print('Pad sequences (samples x time)')\n",
    "x_train = sequence.pad_sequences(x_train, maxlen=maxlen)\n",
    "x_test = sequence.pad_sequences(x_test, maxlen=maxlen)\n",
    "print('x_train shape:', x_train.shape)\n",
    "print('x_test shape:', x_test.shape)"
   ]
  },
  {
   "cell_type": "code",
   "execution_count": 7,
   "metadata": {},
   "outputs": [
    {
     "name": "stdout",
     "output_type": "stream",
     "text": [
      "dramatics class the sets are pathetic but marginally better than the <UNK> and the acting is wooden br br the infant <UNK> seems to have been stolen from the props cupboard of <UNK> <UNK> there didn't seem to be a single original idea in the whole movie br br i found this movie to be so bad that i laughed most of the way through br br malcolm mcdowell should hang his head in shame he obviously needed the money\n",
      "\n",
      "Length: 80\n"
     ]
    }
   ],
   "source": [
    "# Raw text post selecting the top most frequently occurring words\n",
    "index_train = 20\n",
    "r_t_r = get_raw_txt(w_to_id, x_train[index_train])\n",
    "print(r_t_r + \"\\n\")\n",
    "print(\"Length: {}\".format(len(r_t_r.split(' '))))"
   ]
  },
  {
   "cell_type": "code",
   "execution_count": 8,
   "metadata": {},
   "outputs": [
    {
     "name": "stdout",
     "output_type": "stream",
     "text": [
      "Build model...\n"
     ]
    }
   ],
   "source": [
    "# Reference: https://github.com/keras-team/keras/blob/master/examples/imdb_cnn.py\n",
    "print('Build model...')\n",
    "model = Sequential()\n",
    "\n",
    "# we start off with an efficient embedding layer which maps\n",
    "# our vocab indices into embedding_dims dimensions\n",
    "model.add(Embedding(input_dim=max_features,\n",
    "                    output_dim=embedding_dims,\n",
    "                    input_length=maxlen))\n",
    "model.add(Dropout(0.2))\n",
    "\n",
    "# we add a Convolution1D, which will learn filters\n",
    "# word group filters of size filter_length:\n",
    "model.add(Conv1D(filters,\n",
    "                 kernel_size,\n",
    "                 padding='valid',\n",
    "                 activation='relu',\n",
    "                 strides=1))\n",
    "\n",
    "# we use max pooling:\n",
    "model.add(GlobalMaxPooling1D())\n",
    "\n",
    "# We add a vanilla hidden layer:\n",
    "model.add(Dense(hidden_dims))\n",
    "model.add(Dropout(0.2))\n",
    "model.add(Activation('relu'))\n",
    "\n",
    "# We project onto a single unit output layer, and squash it with a sigmoid:\n",
    "model.add(Dense(1))\n",
    "model.add(Activation('sigmoid'))"
   ]
  },
  {
   "cell_type": "code",
   "execution_count": 9,
   "metadata": {
    "collapsed": true
   },
   "outputs": [],
   "source": [
    "model.compile(loss='binary_crossentropy',\n",
    "              optimizer='adam',\n",
    "              metrics=['accuracy'])"
   ]
  },
  {
   "cell_type": "code",
   "execution_count": 10,
   "metadata": {},
   "outputs": [
    {
     "name": "stdout",
     "output_type": "stream",
     "text": [
      "Train on 25000 samples, validate on 25000 samples\n",
      "Epoch 1/3\n",
      "25000/25000 [==============================] - 36s - loss: 0.4460 - acc: 0.7760 - val_loss: 0.3461 - val_acc: 0.8466\n",
      "Epoch 2/3\n",
      "25000/25000 [==============================] - 36s - loss: 0.2366 - acc: 0.9056 - val_loss: 0.3452 - val_acc: 0.8506\n",
      "Epoch 3/3\n",
      "25000/25000 [==============================] - 36s - loss: 0.0938 - acc: 0.9665 - val_loss: 0.5190 - val_acc: 0.8233\n"
     ]
    },
    {
     "data": {
      "text/plain": [
       "<keras.callbacks.History at 0x7f98a03dca20>"
      ]
     },
     "execution_count": 10,
     "metadata": {},
     "output_type": "execute_result"
    }
   ],
   "source": [
    "model.fit(x_train, y_train,\n",
    "          batch_size=batch_size,\n",
    "          epochs=epochs,\n",
    "          validation_data=(x_test, y_test))"
   ]
  },
  {
   "cell_type": "code",
   "execution_count": 15,
   "metadata": {},
   "outputs": [
    {
     "name": "stdout",
     "output_type": "stream",
     "text": [
      "24768/25000 [============================>.] - ETA: 0sTest score: 0.47839841115951537\n",
      "Test accuracy: 0.83748\n"
     ]
    }
   ],
   "source": [
    "score, acc = model.evaluate(x_test, y_test,\n",
    "                            batch_size=batch_size)\n",
    "print('Test score:', score)\n",
    "print('Test accuracy:', acc)"
   ]
  },
  {
   "cell_type": "markdown",
   "metadata": {},
   "source": [
    "#### Summarize the Model"
   ]
  },
  {
   "cell_type": "code",
   "execution_count": 16,
   "metadata": {},
   "outputs": [
    {
     "name": "stdout",
     "output_type": "stream",
     "text": [
      "_________________________________________________________________\n",
      "Layer (type)                 Output Shape              Param #   \n",
      "=================================================================\n",
      "embedding_2 (Embedding)      (None, 80, 128)           2560000   \n",
      "_________________________________________________________________\n",
      "dropout_3 (Dropout)          (None, 80, 128)           0         \n",
      "_________________________________________________________________\n",
      "conv1d_2 (Conv1D)            (None, 78, 250)           96250     \n",
      "_________________________________________________________________\n",
      "global_max_pooling1d_2 (Glob (None, 250)               0         \n",
      "_________________________________________________________________\n",
      "dense_3 (Dense)              (None, 250)               62750     \n",
      "_________________________________________________________________\n",
      "dropout_4 (Dropout)          (None, 250)               0         \n",
      "_________________________________________________________________\n",
      "activation_3 (Activation)    (None, 250)               0         \n",
      "_________________________________________________________________\n",
      "dense_4 (Dense)              (None, 1)                 251       \n",
      "_________________________________________________________________\n",
      "activation_4 (Activation)    (None, 1)                 0         \n",
      "=================================================================\n",
      "Total params: 2,719,251\n",
      "Trainable params: 2,719,251\n",
      "Non-trainable params: 0\n",
      "_________________________________________________________________\n"
     ]
    }
   ],
   "source": [
    "model.summary()"
   ]
  },
  {
   "cell_type": "markdown",
   "metadata": {},
   "source": [
    "### Persist the model for future use"
   ]
  },
  {
   "cell_type": "code",
   "execution_count": 17,
   "metadata": {},
   "outputs": [
    {
     "name": "stdout",
     "output_type": "stream",
     "text": [
      "Save model to disk\n"
     ]
    }
   ],
   "source": [
    "# Save and persist the trained keras model in YAML format\n",
    "model_yaml = model.to_yaml()\n",
    "with open(\"model_cnn_imdb_{}.yaml\".format(epochs), \"w\") as yaml_file:\n",
    "    yaml_file.write(model_yaml)\n",
    "# serialize weights to HDF5\n",
    "model.save_weights(\"model_cnn_imdb_{}.h5\".format(epochs))\n",
    "print(\"Save model to disk\")"
   ]
  },
  {
   "cell_type": "markdown",
   "metadata": {},
   "source": [
    "### Load the saved model"
   ]
  },
  {
   "cell_type": "code",
   "execution_count": 10,
   "metadata": {},
   "outputs": [
    {
     "name": "stdout",
     "output_type": "stream",
     "text": [
      "Load model from disk\n",
      "24896/25000 [============================>.] - ETA: 0s\n",
      "\n",
      "\n",
      "Test score: 0.5111530197954178\n",
      "Test accuracy: 0.8468\n"
     ]
    }
   ],
   "source": [
    "# load the model\n",
    "# Learning phase is set to '0' as we are not training\n",
    "K.set_learning_phase(0)\n",
    "yaml_file = open('model_cnn_imdb_{}.yaml'.format(epochs), 'r')\n",
    "loaded_model_yaml = yaml_file.read()\n",
    "yaml_file.close()\n",
    "loaded_model = model_from_yaml(loaded_model_yaml)\n",
    "# load weights into new model\n",
    "loaded_model.load_weights('model_cnn_imdb_{}.h5'.format(epochs))\n",
    "print(\"Load model from disk\")\n",
    "\n",
    "\n",
    "# Validate model performance with the reload of persisted model\n",
    "loaded_model.compile(loss='binary_crossentropy',\n",
    "              optimizer='adam',\n",
    "              metrics=['accuracy'])\n",
    "score, acc = loaded_model.evaluate(x_test, y_test,\n",
    "                            batch_size=batch_size)\n",
    "print(\"\\n\\n\")\n",
    "print('Test score:', score)\n",
    "print('Test accuracy:', acc)"
   ]
  },
  {
   "cell_type": "markdown",
   "metadata": {},
   "source": [
    "### Lets ask Skater to help us in interpreting the model"
   ]
  },
  {
   "cell_type": "code",
   "execution_count": 11,
   "metadata": {},
   "outputs": [
    {
     "name": "stdout",
     "output_type": "stream",
     "text": [
      "learning_phase 0\n",
      "Load model from disk\n",
      "1/1 [==============================] - 0s"
     ]
    },
    {
     "name": "stderr",
     "output_type": "stream",
     "text": [
      "2018-05-17 20:58:16,094 - IntegratedGradients - INFO - Executing operations to compute relevance using Integrated Gradient\n"
     ]
    },
    {
     "name": "stdout",
     "output_type": "stream",
     "text": [
      "\n",
      "Predicted class Probabilities: [[0.8022024]]\n",
      "Ground Truth: [1]\n"
     ]
    }
   ],
   "source": [
    "index = 45\n",
    "K.set_learning_phase(0)\n",
    "with DeepInterpreter(session=K.get_session()) as di:\n",
    "    print(\"learning_phase {}\".format(K.learning_phase()))\n",
    "    yaml_file = open('model_cnn_imdb_{}.yaml'.format(epochs), 'r')\n",
    "    loaded_model_yaml = yaml_file.read()\n",
    "    yaml_file.close()\n",
    "    \n",
    "    loaded_model = model_from_yaml(loaded_model_yaml)\n",
    "    # load weights into new model\n",
    "    loaded_model.load_weights('model_cnn_imdb_{}.h5'.format(epochs))\n",
    "    print(\"Load model from disk\")    \n",
    "    \n",
    "    # Input data\n",
    "    xs = np.array([x_test[index]])\n",
    "    ys = np.array([y_test[index]])\n",
    "\n",
    "    print('Predicted class Probabilities: {}'.format(loaded_model.predict_proba(np.array([x_test[index]]))))\n",
    "    print('Ground Truth: {}'.format(ys))\n",
    "    \n",
    "    embedding_tensor = loaded_model.layers[0].output\n",
    "    input_tensor = loaded_model.layers[0].input\n",
    "    \n",
    "    embedding_out = di.session.run(embedding_tensor, {input_tensor: xs});\n",
    "    # Using Integrated Gradient for computing feature relevance\n",
    "    relevance_scores = di.explain('ig', loaded_model.layers[-2].output * ys, \n",
    "                                  loaded_model.layers[1].input, embedding_out, use_case='txt');"
   ]
  },
  {
   "cell_type": "code",
   "execution_count": 12,
   "metadata": {},
   "outputs": [
    {
     "data": {
      "text/plain": [
       "count    80.000000\n",
       "mean      0.000129\n",
       "std       0.008240\n",
       "min      -0.043927\n",
       "25%      -0.001377\n",
       "50%       0.000383\n",
       "75%       0.002411\n",
       "max       0.032541\n",
       "dtype: float64"
      ]
     },
     "execution_count": 12,
     "metadata": {},
     "output_type": "execute_result"
    }
   ],
   "source": [
    "# building a dataframe with columns 'features' and 'relevance scores'\n",
    "# Since, the relevance score is compute over the embedding vector, we aggregate it by computing 'mean'\n",
    "# over the embedding to get scalar coefficient for the features\n",
    "relevance_scores_df = pd.DataFrame(relevance_scores[0]).mean(axis=1)\n",
    "relevance_scores_df.describe()"
   ]
  },
  {
   "cell_type": "code",
   "execution_count": 13,
   "metadata": {},
   "outputs": [
    {
     "name": "stdout",
     "output_type": "stream",
     "text": [
      "excellent tale of two boys that do whatever they can to get away from there abusive <UNK> father lord of the rings star elijah wood is outstanding in this unforgettable role this movie is one of the main reasons i haven't touched a single beer and never will as long as i live that might make me sound like a nerd but that's what i have to say it is a wonder why this isn't as a classic american tale\n"
     ]
    }
   ],
   "source": [
    "# # Retrieve the text\n",
    "r_t_test = get_raw_txt(w_to_id, x_test[index])\n",
    "print(r_t_test)"
   ]
  },
  {
   "cell_type": "markdown",
   "metadata": {},
   "source": [
    "#### Visualize the results"
   ]
  },
  {
   "cell_type": "code",
   "execution_count": 14,
   "metadata": {},
   "outputs": [
    {
     "name": "stderr",
     "output_type": "stream",
     "text": [
      "2018-05-17 20:58:16,793 - skater.core.visualizer.text_relevance_visualizer - INFO - Rank order feature relevance based on input created and saved as feature_relevance.png\n",
      "2018-05-17 20:58:16,795 - skater.core.visualizer.text_relevance_visualizer - INFO - Relevance plot name: feature_relevance.png\n",
      "2018-05-17 20:58:16,827 - skater.core.visualizer.text_relevance_visualizer - INFO - Visual Explainer built, use show_in_notebook to render in Jupyter style Notebooks: rendered.html\n"
     ]
    }
   ],
   "source": [
    "build_visual_explainer(r_t_test, relevance_scores_df, highlight_oov=True, enable_plot=True)"
   ]
  },
  {
   "cell_type": "code",
   "execution_count": 15,
   "metadata": {},
   "outputs": [
    {
     "name": "stderr",
     "output_type": "stream",
     "text": [
      "2018-05-17 20:58:16,833 - skater.core.visualizer.text_relevance_visualizer - INFO - File Name: ./rendered.html\n"
     ]
    },
    {
     "data": {
      "text/html": [
       "<body><h3>Word Relevance</h3><div class=\"row\" style=background-color:#F5F5F5 white-space: pre-wrap; font-size: 12pt; font-family: Avenir Black><span style=\"background-color: rgba(253, 209, 190, 0.7)\">excellent</span> <span style=\"background-color: rgba(246, 250, 255, 0.7)\">tale</span> <span style=\"background-color: rgba(255, 243, 237, 0.7)\">of</span> <span style=\"background-color: rgba(223, 236, 247, 0.7)\">two</span> <span style=\"background-color: rgba(252, 169, 140, 0.7)\">boys</span> <span style=\"background-color: rgba(255, 240, 233, 0.7)\">that</span> <span style=\"background-color: rgba(255, 244, 238, 0.7)\">do</span> <span style=\"background-color: rgba(246, 250, 255, 0.7)\">whatever</span> <span style=\"background-color: rgba(216, 231, 245, 0.7)\">they</span> <span style=\"background-color: rgba(242, 248, 253, 0.7)\">can</span> <span style=\"background-color: rgba(242, 247, 253, 0.7)\">to</span> <span style=\"background-color: rgba(234, 242, 251, 0.7)\">get</span> <span style=\"background-color: rgba(238, 245, 252, 0.7)\">away</span> <span style=\"background-color: rgba(210, 227, 243, 0.7)\">from</span> <span style=\"background-color: rgba(242, 247, 253, 0.7)\">there</span> <span style=\"background-color: rgba(255, 245, 240, 0.7)\">abusive</span> <span style=\"background-color: rgba(255, 245, 240, 0.5)\"><UNK></span> <span style=\"background-color: rgba(255, 243, 237, 0.7)\">father</span> <span style=\"background-color: rgba(255, 240, 232, 0.7)\">lord</span> <span style=\"background-color: rgba(255, 243, 237, 0.7)\">of</span> <span style=\"background-color: rgba(245, 250, 254, 0.7)\">the</span> <span style=\"background-color: rgba(254, 229, 216, 0.7)\">rings</span> <span style=\"background-color: rgba(245, 250, 254, 0.7)\">star</span> <span style=\"background-color: rgba(255, 240, 233, 0.7)\">elijah</span> <span style=\"background-color: rgba(255, 243, 237, 0.7)\">wood</span> <span style=\"background-color: rgba(229, 239, 249, 0.7)\">is</span> <span style=\"background-color: rgba(255, 243, 237, 0.7)\">outstanding</span> <span style=\"background-color: rgba(225, 237, 248, 0.7)\">in</span> <span style=\"background-color: rgba(157, 202, 225, 0.7)\">this</span> <span style=\"background-color: rgba(206, 26, 30, 0.7)\">unforgettable</span> <span style=\"background-color: rgba(225, 237, 248, 0.7)\">role</span> <span style=\"background-color: rgba(157, 202, 225, 0.7)\">this</span> <span style=\"background-color: rgba(255, 244, 239, 0.7)\">movie</span> <span style=\"background-color: rgba(229, 239, 249, 0.7)\">is</span> <span style=\"background-color: rgba(254, 234, 225, 0.7)\">one</span> <span style=\"background-color: rgba(255, 243, 237, 0.7)\">of</span> <span style=\"background-color: rgba(245, 250, 254, 0.7)\">the</span> <span style=\"background-color: rgba(231, 241, 250, 0.7)\">main</span> <span style=\"background-color: rgba(253, 210, 191, 0.7)\">reasons</span> <span style=\"background-color: rgba(239, 246, 252, 0.7)\">i</span> <span style=\"background-color: rgba(239, 246, 252, 0.5)\">haven't</span> <span style=\"background-color: rgba(253, 215, 198, 0.7)\">touched</span> <span style=\"background-color: rgba(254, 218, 202, 0.7)\">a</span> <span style=\"background-color: rgba(200, 220, 240, 0.7)\">single</span> <span style=\"background-color: rgba(237, 244, 252, 0.7)\">beer</span> <span style=\"background-color: rgba(252, 173, 144, 0.7)\">and</span> <span style=\"background-color: rgba(244, 249, 254, 0.7)\">never</span> <span style=\"background-color: rgba(254, 223, 208, 0.7)\">will</span> <span style=\"background-color: rgba(235, 243, 251, 0.7)\">as</span> <span style=\"background-color: rgba(243, 248, 254, 0.7)\">long</span> <span style=\"background-color: rgba(235, 243, 251, 0.7)\">as</span> <span style=\"background-color: rgba(239, 246, 252, 0.7)\">i</span> <span style=\"background-color: rgba(255, 242, 235, 0.7)\">live</span> <span style=\"background-color: rgba(255, 240, 233, 0.7)\">that</span> <span style=\"background-color: rgba(255, 245, 240, 0.7)\">might</span> <span style=\"background-color: rgba(235, 243, 251, 0.7)\">make</span> <span style=\"background-color: rgba(246, 250, 255, 0.7)\">me</span> <span style=\"background-color: rgba(254, 220, 205, 0.7)\">sound</span> <span style=\"background-color: rgba(254, 219, 204, 0.7)\">like</span> <span style=\"background-color: rgba(254, 218, 202, 0.7)\">a</span> <span style=\"background-color: rgba(247, 251, 255, 0.7)\">nerd</span> <span style=\"background-color: rgba(255, 245, 240, 0.7)\">but</span> <span style=\"background-color: rgba(255, 245, 240, 0.5)\">that's</span> <span style=\"background-color: rgba(255, 241, 234, 0.7)\">what</span> <span style=\"background-color: rgba(239, 246, 252, 0.7)\">i</span> <span style=\"background-color: rgba(255, 240, 233, 0.7)\">have</span> <span style=\"background-color: rgba(242, 247, 253, 0.7)\">to</span> <span style=\"background-color: rgba(245, 250, 254, 0.7)\">say</span> <span style=\"background-color: rgba(255, 244, 239, 0.7)\">it</span> <span style=\"background-color: rgba(229, 239, 249, 0.7)\">is</span> <span style=\"background-color: rgba(254, 218, 202, 0.7)\">a</span> <span style=\"background-color: rgba(8, 48, 107, 0.7)\">wonder</span> <span style=\"background-color: rgba(124, 183, 218, 0.7)\">why</span> <span style=\"background-color: rgba(157, 202, 225, 0.7)\">this</span> <span style=\"background-color: rgba(157, 202, 225, 0.5)\">isn't</span> <span style=\"background-color: rgba(235, 243, 251, 0.7)\">as</span> <span style=\"background-color: rgba(254, 218, 202, 0.7)\">a</span> <span style=\"background-color: rgba(252, 180, 153, 0.7)\">classic</span> <span style=\"background-color: rgba(53, 133, 191, 0.7)\">american</span> <span style=\"background-color: rgba(246, 250, 255, 0.7)\">tale</span></div><div align=\"center\"><img src=\"./feature_relevance.png?1\"</div></body>"
      ],
      "text/plain": [
       "<IPython.core.display.HTML object>"
      ]
     },
     "metadata": {},
     "output_type": "display_data"
    }
   ],
   "source": [
    "show_in_notebook('./rendered.html')"
   ]
  },
  {
   "cell_type": "markdown",
   "metadata": {},
   "source": [
    "### Generating conditional adversarial examples"
   ]
  },
  {
   "cell_type": "markdown",
   "metadata": {},
   "source": [
    "#### Generating text by deleting or updating textual information"
   ]
  },
  {
   "cell_type": "code",
   "execution_count": 15,
   "metadata": {},
   "outputs": [
    {
     "name": "stdout",
     "output_type": "stream",
     "text": [
      "excellent tale of two boys that do whatever they can to get away from there abusive <UNK> father lord of the rings star elijah wood is <UNK> in this unforgettable role this movie is one of the main reasons i haven't touched a single beer and never will as long as i live that might make me sound like a nerd but that's what i have to say it is a wonder why this isn't as a classic american tale\n"
     ]
    }
   ],
   "source": [
    "new_txt = r_t_test.replace(\"outstanding\", \"<UNK>\")\n",
    "print(new_txt)"
   ]
  },
  {
   "cell_type": "code",
   "execution_count": 16,
   "metadata": {
    "collapsed": true
   },
   "outputs": [],
   "source": [
    "# Convert the dataset to engineered feature format\n",
    "# Reference: https://stackoverflow.com/questions/42964375/how-to-input-new-text-for-prediction-in-keras-while-using-an-inbuilt-dataset\n",
    "\n",
    "def input_formatter_imdb(input_txt, word_index_mapping):\n",
    "    \n",
    "    x_i_test = [[word_index_mapping[wrds] if wrds in word_index_mapping.keys() else word_index_mapping[\"<UNK>\"] \n",
    "                 for wrds in input_txt.split(' ')]]\n",
    "    x_i_test = sequence.pad_sequences(x_i_test, maxlen=maxlen)\n",
    "    txt_vector = np.array([x_i_test.flatten()])\n",
    "    return txt_vector"
   ]
  },
  {
   "cell_type": "code",
   "execution_count": 17,
   "metadata": {},
   "outputs": [
    {
     "data": {
      "text/plain": [
       "array([[  321,   787,     7,   107,  1013,    15,    81,   845,    36,\n",
       "           70,     8,    79,   245,    39,    50,  4595,     2,   336,\n",
       "         1635,     7,     4,  2666,   323, 13245,  2137,     9,     2,\n",
       "           11,    14,  3210,   217,    14,    20,     9,    31,     7,\n",
       "            4,   293,  1007,    13,   774,  2842,     6,   686,  3640,\n",
       "            5,   115,    80,    17,   196,    17,    13,   412,    15,\n",
       "          238,    97,    72,   481,    40,     6,  5155,    21,   198,\n",
       "           51,    13,    28,     8,   135,    12,     9,     6,   594,\n",
       "          138,    14,   218,    17,     6,   356,   298,   787]],\n",
       "      dtype=int32)"
      ]
     },
     "execution_count": 17,
     "metadata": {},
     "output_type": "execute_result"
    }
   ],
   "source": [
    "input_vector = input_formatter_imdb(new_txt, w_to_id)\n",
    "input_vector"
   ]
  },
  {
   "cell_type": "code",
   "execution_count": 18,
   "metadata": {},
   "outputs": [
    {
     "name": "stdout",
     "output_type": "stream",
     "text": [
      "learning_phase 0\n",
      "Load model from disk\n",
      "\r",
      "1/1 [==============================] - 0s"
     ]
    },
    {
     "name": "stderr",
     "output_type": "stream",
     "text": [
      "2018-04-29 17:37:07,779 - IntegratedGradients - INFO - Executing operations to compute relevance using Integrated Gradient\n"
     ]
    },
    {
     "name": "stdout",
     "output_type": "stream",
     "text": [
      "\n",
      "Predicted class : [[0.8917762]]\n",
      "Ground Truth: [1]\n",
      "(1, 80, 128)\n"
     ]
    }
   ],
   "source": [
    "K.set_learning_phase(0)\n",
    "with DeepInterpreter(session=K.get_session()) as di:\n",
    "    print(\"learning_phase {}\".format(K.learning_phase()))\n",
    "    yaml_file = open('model_cnn_imdb_{}.yaml'.format(epochs), 'r')\n",
    "    loaded_model_yaml = yaml_file.read()\n",
    "    yaml_file.close()\n",
    "    \n",
    "    loaded_model = model_from_yaml(loaded_model_yaml)\n",
    "    # load weights into new model\n",
    "    loaded_model.load_weights('model_cnn_imdb_{}.h5'.format(epochs))\n",
    "    print(\"Load model from disk\")    \n",
    "    \n",
    "    # Input data\n",
    "    xs = input_vector\n",
    "    ys = np.array([1])\n",
    "\n",
    "    print('Predicted class : {}'.format(loaded_model.predict_proba(np.array([x_test[index]]))))\n",
    "    print('Ground Truth: {}'.format(ys))\n",
    "    \n",
    "    embedding_tensor = loaded_model.layers[0].output\n",
    "    input_tensor = loaded_model.layers[0].input\n",
    "    \n",
    "    embedding_out = di.session.run(embedding_tensor, {input_tensor: xs})\n",
    "    print(embedding_out.shape)\n",
    "    # Using Integrated Gradient for computing feature relevance\n",
    "    relevance_scores = di.explain('ig', loaded_model.layers[-2].output * ys, \n",
    "                                  loaded_model.layers[1].input, embedding_out, use_case='txt');"
   ]
  },
  {
   "cell_type": "code",
   "execution_count": 19,
   "metadata": {},
   "outputs": [
    {
     "name": "stdout",
     "output_type": "stream",
     "text": [
      "New Document:\n",
      "\n",
      " excellent tale of two boys that do whatever they can to get away from there abusive <UNK> father lord of the rings star elijah wood is <UNK> in this unforgettable role this movie is one of the main reasons i haven't touched a single beer and never will as long as i live that might make me sound like a nerd but that's what i have to say it is a wonder why this isn't as a classic american tale\n"
     ]
    },
    {
     "name": "stderr",
     "output_type": "stream",
     "text": [
      "2018-04-29 17:37:08,269 - skater.core.visualizer.text_relevance_visualizer - INFO - Rank order feature relevance based on input created and saved as feature_relevance.png\n",
      "2018-04-29 17:37:08,270 - skater.core.visualizer.text_relevance_visualizer - INFO - Relevance plot name: feature_relevance.png\n",
      "2018-04-29 17:37:08,295 - skater.core.visualizer.text_relevance_visualizer - INFO - Visual Explainer built, use show_in_notebook to render in Jupyter style Notebooks: rendered.html\n"
     ]
    },
    {
     "data": {
      "text/html": [
       "<body><h3>Word Relevance</h3><div class=\"row\" style=background-color:#F5F5F5 white-space: pre-wrap; font-size: 12pt; font-family: Avenir Black><span style=\"background-color: rgba(255, 240, 233, 0.7)\">excellent</span> <span style=\"background-color: rgba(252, 185, 159, 0.7)\">tale</span> <span style=\"background-color: rgba(255, 240, 233, 0.7)\">of</span> <span style=\"background-color: rgba(247, 251, 255, 0.7)\">two</span> <span style=\"background-color: rgba(247, 251, 255, 0.7)\">boys</span> <span style=\"background-color: rgba(255, 244, 238, 0.7)\">that</span> <span style=\"background-color: rgba(245, 249, 254, 0.7)\">do</span> <span style=\"background-color: rgba(226, 237, 248, 0.7)\">whatever</span> <span style=\"background-color: rgba(243, 248, 254, 0.7)\">they</span> <span style=\"background-color: rgba(255, 245, 240, 0.7)\">can</span> <span style=\"background-color: rgba(241, 247, 253, 0.7)\">to</span> <span style=\"background-color: rgba(242, 247, 253, 0.7)\">get</span> <span style=\"background-color: rgba(255, 241, 234, 0.7)\">away</span> <span style=\"background-color: rgba(246, 250, 255, 0.7)\">from</span> <span style=\"background-color: rgba(240, 246, 253, 0.7)\">there</span> <span style=\"background-color: rgba(255, 245, 240, 0.7)\">abusive</span> <span style=\"background-color: rgba(255, 245, 240, 0.5)\"><UNK></span> <span style=\"background-color: rgba(246, 250, 255, 0.7)\">father</span> <span style=\"background-color: rgba(246, 250, 255, 0.7)\">lord</span> <span style=\"background-color: rgba(255, 240, 233, 0.7)\">of</span> <span style=\"background-color: rgba(244, 249, 254, 0.7)\">the</span> <span style=\"background-color: rgba(254, 232, 221, 0.7)\">rings</span> <span style=\"background-color: rgba(238, 245, 252, 0.7)\">star</span> <span style=\"background-color: rgba(247, 251, 255, 0.7)\">elijah</span> <span style=\"background-color: rgba(255, 244, 239, 0.7)\">wood</span> <span style=\"background-color: rgba(254, 232, 221, 0.7)\">is</span> <span style=\"background-color: rgba(254, 232, 221, 0.5)\"><UNK></span> <span style=\"background-color: rgba(254, 229, 216, 0.7)\">in</span> <span style=\"background-color: rgba(199, 220, 239, 0.7)\">this</span> <span style=\"background-color: rgba(103, 0, 13, 0.7)\">unforgettable</span> <span style=\"background-color: rgba(255, 243, 237, 0.7)\">role</span> <span style=\"background-color: rgba(199, 220, 239, 0.7)\">this</span> <span style=\"background-color: rgba(239, 246, 252, 0.7)\">movie</span> <span style=\"background-color: rgba(254, 232, 221, 0.7)\">is</span> <span style=\"background-color: rgba(255, 242, 235, 0.7)\">one</span> <span style=\"background-color: rgba(255, 240, 233, 0.7)\">of</span> <span style=\"background-color: rgba(244, 249, 254, 0.7)\">the</span> <span style=\"background-color: rgba(231, 241, 250, 0.7)\">main</span> <span style=\"background-color: rgba(228, 239, 249, 0.7)\">reasons</span> <span style=\"background-color: rgba(255, 239, 232, 0.7)\">i</span> <span style=\"background-color: rgba(255, 239, 232, 0.5)\">haven't</span> <span style=\"background-color: rgba(254, 229, 217, 0.7)\">touched</span> <span style=\"background-color: rgba(252, 155, 124, 0.7)\">a</span> <span style=\"background-color: rgba(243, 248, 254, 0.7)\">single</span> <span style=\"background-color: rgba(216, 231, 245, 0.7)\">beer</span> <span style=\"background-color: rgba(254, 234, 225, 0.7)\">and</span> <span style=\"background-color: rgba(255, 244, 238, 0.7)\">never</span> <span style=\"background-color: rgba(255, 238, 230, 0.7)\">will</span> <span style=\"background-color: rgba(238, 245, 252, 0.7)\">as</span> <span style=\"background-color: rgba(245, 249, 254, 0.7)\">long</span> <span style=\"background-color: rgba(238, 245, 252, 0.7)\">as</span> <span style=\"background-color: rgba(255, 239, 232, 0.7)\">i</span> <span style=\"background-color: rgba(255, 239, 232, 0.7)\">live</span> <span style=\"background-color: rgba(255, 244, 238, 0.7)\">that</span> <span style=\"background-color: rgba(227, 238, 249, 0.7)\">might</span> <span style=\"background-color: rgba(190, 216, 236, 0.7)\">make</span> <span style=\"background-color: rgba(255, 240, 232, 0.7)\">me</span> <span style=\"background-color: rgba(242, 248, 253, 0.7)\">sound</span> <span style=\"background-color: rgba(234, 242, 251, 0.7)\">like</span> <span style=\"background-color: rgba(252, 155, 124, 0.7)\">a</span> <span style=\"background-color: rgba(255, 243, 237, 0.7)\">nerd</span> <span style=\"background-color: rgba(255, 240, 233, 0.7)\">but</span> <span style=\"background-color: rgba(255, 240, 233, 0.5)\">that's</span> <span style=\"background-color: rgba(243, 248, 254, 0.7)\">what</span> <span style=\"background-color: rgba(255, 239, 232, 0.7)\">i</span> <span style=\"background-color: rgba(255, 241, 234, 0.7)\">have</span> <span style=\"background-color: rgba(241, 247, 253, 0.7)\">to</span> <span style=\"background-color: rgba(255, 244, 238, 0.7)\">say</span> <span style=\"background-color: rgba(255, 242, 235, 0.7)\">it</span> <span style=\"background-color: rgba(254, 232, 221, 0.7)\">is</span> <span style=\"background-color: rgba(252, 155, 124, 0.7)\">a</span> <span style=\"background-color: rgba(50, 130, 190, 0.7)\">wonder</span> <span style=\"background-color: rgba(49, 129, 189, 0.7)\">why</span> <span style=\"background-color: rgba(199, 220, 239, 0.7)\">this</span> <span style=\"background-color: rgba(199, 220, 239, 0.5)\">isn't</span> <span style=\"background-color: rgba(238, 245, 252, 0.7)\">as</span> <span style=\"background-color: rgba(252, 155, 124, 0.7)\">a</span> <span style=\"background-color: rgba(252, 127, 95, 0.7)\">classic</span> <span style=\"background-color: rgba(219, 233, 246, 0.7)\">american</span> <span style=\"background-color: rgba(252, 185, 159, 0.7)\">tale</span></div><div align=\"center\"><img src=\"./feature_relevance.png?2\"</div></body>"
      ],
      "text/plain": [
       "<IPython.core.display.HTML object>"
      ]
     },
     "execution_count": 19,
     "metadata": {},
     "output_type": "execute_result"
    }
   ],
   "source": [
    "relevance_scores_df = pd.DataFrame(relevance_scores[0]).mean(axis=1)\n",
    "relevance_scores_df.describe()\n",
    "\n",
    "# Retrieve the text\n",
    "_in = input_vector.reshape(-1)\n",
    "r_t = get_raw_txt(w_to_id, _in)\n",
    "print(\"New Document:\\n\\n {}\".format(r_t))\n",
    "\n",
    "build_visual_explainer(r_t, relevance_scores_df, highlight_oov=True, enable_plot=True)\n",
    "show_in_notebook('./rendered.html')"
   ]
  },
  {
   "cell_type": "code",
   "execution_count": 20,
   "metadata": {},
   "outputs": [
    {
     "name": "stdout",
     "output_type": "stream",
     "text": [
      "<UNK> tale of two boys that do whatever they can to get away from there abusive <UNK> father lord of the rings star elijah wood is <UNK> in this <UNK> role this movie is one of the main reasons i haven't <UNK> a single beer and <UNK> will as long as i live that might make me sound like a nerd but that's what i have to say it is a wonder why this isn't as a <UNK> american tale\n"
     ]
    }
   ],
   "source": [
    "# replacing words in a sentence\n",
    "import re\n",
    "words_to_replace = [\"excellent\", 'classic', 'unforgettable', 'touched', 'never']\n",
    "regex_builder = re.compile('|'.join(map(re.escape, words_to_replace)))\n",
    "new_txt2 = regex_builder.sub(\"<UNK>\" , new_txt)\n",
    "print(new_txt2)"
   ]
  },
  {
   "cell_type": "code",
   "execution_count": 21,
   "metadata": {
    "collapsed": true
   },
   "outputs": [],
   "source": [
    "input_vector2 = input_formatter_imdb(new_txt2, w_to_id)"
   ]
  },
  {
   "cell_type": "code",
   "execution_count": 22,
   "metadata": {},
   "outputs": [
    {
     "name": "stdout",
     "output_type": "stream",
     "text": [
      "learning_phase 0\n",
      "Load model from disk\n",
      "\r",
      "1/1 [==============================] - 0s"
     ]
    },
    {
     "name": "stderr",
     "output_type": "stream",
     "text": [
      "2018-04-29 17:37:08,780 - IntegratedGradients - INFO - Executing operations to compute relevance using Integrated Gradient\n"
     ]
    },
    {
     "name": "stdout",
     "output_type": "stream",
     "text": [
      "\n",
      "Predicted class : [[0.8917762]]\n",
      "Ground Truth: [1]\n",
      "(1, 80, 128)\n"
     ]
    }
   ],
   "source": [
    "K.set_learning_phase(0)\n",
    "with DeepInterpreter(session=K.get_session()) as di:\n",
    "    print(\"learning_phase {}\".format(K.learning_phase()))\n",
    "    yaml_file = open('model_cnn_imdb_{}.yaml'.format(epochs), 'r')\n",
    "    loaded_model_yaml = yaml_file.read()\n",
    "    yaml_file.close()\n",
    "    \n",
    "    loaded_model = model_from_yaml(loaded_model_yaml)\n",
    "    # load weights into new model\n",
    "    loaded_model.load_weights('model_cnn_imdb_{}.h5'.format(epochs))\n",
    "    print(\"Load model from disk\")    \n",
    "    \n",
    "    # Input data\n",
    "    xs = input_vector2\n",
    "    ys = np.array([1])\n",
    "\n",
    "    print('Predicted class : {}'.format(loaded_model.predict_proba(np.array([x_test[index]]))))\n",
    "    print('Ground Truth: {}'.format(ys))\n",
    "    \n",
    "    embedding_tensor = loaded_model.layers[0].output\n",
    "    input_tensor = loaded_model.layers[0].input\n",
    "    \n",
    "    embedding_out = di.session.run(embedding_tensor, {input_tensor: xs})\n",
    "    print(embedding_out.shape)\n",
    "    # Using Integrated Gradient for computing feature relevance\n",
    "    relevance_scores = di.explain('ig', loaded_model.layers[-2].output * ys, \n",
    "                                  loaded_model.layers[1].input, embedding_out, use_case='txt');"
   ]
  },
  {
   "cell_type": "code",
   "execution_count": 23,
   "metadata": {},
   "outputs": [
    {
     "name": "stdout",
     "output_type": "stream",
     "text": [
      "count    80.000000\n",
      "mean     -0.000345\n",
      "std       0.005353\n",
      "min      -0.028120\n",
      "25%      -0.001197\n",
      "50%       0.000094\n",
      "75%       0.001343\n",
      "max       0.013182\n",
      "dtype: float64\n",
      "New Document:\n",
      "\n",
      " excellent tale of two boys that do whatever they can to get away from there abusive <UNK> father lord of the rings star elijah wood is <UNK> in this unforgettable role this movie is one of the main reasons i haven't touched a single beer and never will as long as i live that might make me sound like a nerd but that's what i have to say it is a wonder why this isn't as a classic american tale\n"
     ]
    },
    {
     "name": "stderr",
     "output_type": "stream",
     "text": [
      "2018-04-29 17:37:09,421 - skater.core.visualizer.text_relevance_visualizer - INFO - Rank order feature relevance based on input created and saved as feature_relevance.png\n",
      "2018-04-29 17:37:09,422 - skater.core.visualizer.text_relevance_visualizer - INFO - Relevance plot name: feature_relevance.png\n",
      "2018-04-29 17:37:09,445 - skater.core.visualizer.text_relevance_visualizer - INFO - Visual Explainer built, use show_in_notebook to render in Jupyter style Notebooks: rendered.html\n"
     ]
    },
    {
     "data": {
      "text/html": [
       "<body><h3>Word Relevance</h3><div class=\"row\" style=background-color:#F5F5F5 white-space: pre-wrap; font-size: 12pt; font-family: Avenir Black><span style=\"background-color: rgba(255, 245, 240, 0.7)\">excellent</span> <span style=\"background-color: rgba(252, 191, 167, 0.7)\">tale</span> <span style=\"background-color: rgba(255, 239, 232, 0.7)\">of</span> <span style=\"background-color: rgba(247, 251, 255, 0.7)\">two</span> <span style=\"background-color: rgba(254, 232, 221, 0.7)\">boys</span> <span style=\"background-color: rgba(247, 251, 255, 0.7)\">that</span> <span style=\"background-color: rgba(255, 245, 240, 0.7)\">do</span> <span style=\"background-color: rgba(222, 235, 247, 0.7)\">whatever</span> <span style=\"background-color: rgba(255, 245, 240, 0.7)\">they</span> <span style=\"background-color: rgba(254, 233, 223, 0.7)\">can</span> <span style=\"background-color: rgba(246, 250, 255, 0.7)\">to</span> <span style=\"background-color: rgba(245, 250, 254, 0.7)\">get</span> <span style=\"background-color: rgba(255, 241, 234, 0.7)\">away</span> <span style=\"background-color: rgba(255, 242, 235, 0.7)\">from</span> <span style=\"background-color: rgba(245, 249, 254, 0.7)\">there</span> <span style=\"background-color: rgba(255, 243, 237, 0.7)\">abusive</span> <span style=\"background-color: rgba(255, 243, 237, 0.5)\"><UNK></span> <span style=\"background-color: rgba(255, 242, 235, 0.7)\">father</span> <span style=\"background-color: rgba(255, 238, 230, 0.7)\">lord</span> <span style=\"background-color: rgba(255, 239, 232, 0.7)\">of</span> <span style=\"background-color: rgba(241, 247, 253, 0.7)\">the</span> <span style=\"background-color: rgba(254, 226, 213, 0.7)\">rings</span> <span style=\"background-color: rgba(238, 245, 252, 0.7)\">star</span> <span style=\"background-color: rgba(246, 250, 255, 0.7)\">elijah</span> <span style=\"background-color: rgba(255, 242, 235, 0.7)\">wood</span> <span style=\"background-color: rgba(252, 176, 149, 0.7)\">is</span> <span style=\"background-color: rgba(252, 176, 149, 0.5)\"><UNK></span> <span style=\"background-color: rgba(255, 244, 239, 0.7)\">in</span> <span style=\"background-color: rgba(185, 214, 234, 0.7)\">this</span> <span style=\"background-color: rgba(255, 245, 240, 0.7)\">unforgettable</span> <span style=\"background-color: rgba(255, 245, 240, 0.7)\">role</span> <span style=\"background-color: rgba(185, 214, 234, 0.7)\">this</span> <span style=\"background-color: rgba(240, 246, 253, 0.7)\">movie</span> <span style=\"background-color: rgba(252, 176, 149, 0.7)\">is</span> <span style=\"background-color: rgba(255, 241, 234, 0.7)\">one</span> <span style=\"background-color: rgba(255, 239, 232, 0.7)\">of</span> <span style=\"background-color: rgba(241, 247, 253, 0.7)\">the</span> <span style=\"background-color: rgba(227, 238, 248, 0.7)\">main</span> <span style=\"background-color: rgba(224, 236, 248, 0.7)\">reasons</span> <span style=\"background-color: rgba(254, 230, 218, 0.7)\">i</span> <span style=\"background-color: rgba(254, 230, 218, 0.5)\">haven't</span> <span style=\"background-color: rgba(246, 250, 255, 0.7)\">touched</span> <span style=\"background-color: rgba(195, 218, 238, 0.7)\">a</span> <span style=\"background-color: rgba(230, 240, 249, 0.7)\">single</span> <span style=\"background-color: rgba(214, 229, 244, 0.7)\">beer</span> <span style=\"background-color: rgba(254, 227, 214, 0.7)\">and</span> <span style=\"background-color: rgba(234, 243, 251, 0.7)\">never</span> <span style=\"background-color: rgba(246, 250, 255, 0.7)\">will</span> <span style=\"background-color: rgba(221, 234, 247, 0.7)\">as</span> <span style=\"background-color: rgba(255, 240, 232, 0.7)\">long</span> <span style=\"background-color: rgba(221, 234, 247, 0.7)\">as</span> <span style=\"background-color: rgba(254, 230, 218, 0.7)\">i</span> <span style=\"background-color: rgba(251, 115, 83, 0.7)\">live</span> <span style=\"background-color: rgba(247, 251, 255, 0.7)\">that</span> <span style=\"background-color: rgba(223, 236, 247, 0.7)\">might</span> <span style=\"background-color: rgba(159, 202, 225, 0.7)\">make</span> <span style=\"background-color: rgba(254, 225, 212, 0.7)\">me</span> <span style=\"background-color: rgba(255, 245, 240, 0.7)\">sound</span> <span style=\"background-color: rgba(237, 244, 252, 0.7)\">like</span> <span style=\"background-color: rgba(195, 218, 238, 0.7)\">a</span> <span style=\"background-color: rgba(255, 239, 232, 0.7)\">nerd</span> <span style=\"background-color: rgba(255, 240, 232, 0.7)\">but</span> <span style=\"background-color: rgba(255, 240, 232, 0.5)\">that's</span> <span style=\"background-color: rgba(254, 234, 224, 0.7)\">what</span> <span style=\"background-color: rgba(254, 230, 218, 0.7)\">i</span> <span style=\"background-color: rgba(254, 227, 215, 0.7)\">have</span> <span style=\"background-color: rgba(246, 250, 255, 0.7)\">to</span> <span style=\"background-color: rgba(255, 243, 237, 0.7)\">say</span> <span style=\"background-color: rgba(255, 238, 230, 0.7)\">it</span> <span style=\"background-color: rgba(252, 176, 149, 0.7)\">is</span> <span style=\"background-color: rgba(195, 218, 238, 0.7)\">a</span> <span style=\"background-color: rgba(8, 48, 107, 0.7)\">wonder</span> <span style=\"background-color: rgba(17, 92, 165, 0.7)\">why</span> <span style=\"background-color: rgba(185, 214, 234, 0.7)\">this</span> <span style=\"background-color: rgba(185, 214, 234, 0.5)\">isn't</span> <span style=\"background-color: rgba(221, 234, 247, 0.7)\">as</span> <span style=\"background-color: rgba(195, 218, 238, 0.7)\">a</span> <span style=\"background-color: rgba(236, 244, 251, 0.7)\">classic</span> <span style=\"background-color: rgba(243, 248, 254, 0.7)\">american</span> <span style=\"background-color: rgba(252, 191, 167, 0.7)\">tale</span></div><div align=\"center\"><img src=\"./feature_relevance.png?3\"</div></body>"
      ],
      "text/plain": [
       "<IPython.core.display.HTML object>"
      ]
     },
     "execution_count": 23,
     "metadata": {},
     "output_type": "execute_result"
    }
   ],
   "source": [
    "relevance_scores_df = pd.DataFrame(relevance_scores[0]).mean(axis=1)\n",
    "print(relevance_scores_df.describe())\n",
    "\n",
    "# Retrieve the text\n",
    "_in = input_vector.reshape(-1)\n",
    "r_t = get_raw_txt(w_to_id, _in)\n",
    "print(\"New Document:\\n\\n {}\".format(r_t))\n",
    "\n",
    "build_visual_explainer(r_t, relevance_scores_df, highlight_oov=True, enable_plot=True)\n",
    "show_in_notebook('./rendered.html')"
   ]
  }
 ],
 "metadata": {
  "kernelspec": {
   "display_name": "Python 3",
   "language": "python",
   "name": "python3"
  },
  "language_info": {
   "codemirror_mode": {
    "name": "ipython",
    "version": 3
   },
   "file_extension": ".py",
   "mimetype": "text/x-python",
   "name": "python",
   "nbconvert_exporter": "python",
   "pygments_lexer": "ipython3",
   "version": "3.6.3"
  }
 },
 "nbformat": 4,
 "nbformat_minor": 2
}
